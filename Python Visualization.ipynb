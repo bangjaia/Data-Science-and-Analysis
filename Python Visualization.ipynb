{
  "nbformat": 4,
  "nbformat_minor": 0,
  "metadata": {
    "colab": {
      "provenance": [],
      "collapsed_sections": [],
      "include_colab_link": true
    },
    "kernelspec": {
      "name": "python3",
      "display_name": "Python 3"
    },
    "language_info": {
      "name": "python"
    }
  },
  "cells": [
    {
      "cell_type": "markdown",
      "metadata": {
        "id": "view-in-github",
        "colab_type": "text"
      },
      "source": [
        "<a href=\"https://colab.research.google.com/github/bangjaia/Data-Science-and-Analysis/blob/main/Python%20Visualization.ipynb\" target=\"_parent\"><img src=\"https://colab.research.google.com/assets/colab-badge.svg\" alt=\"Open In Colab\"/></a>"
      ]
    },
    {
      "cell_type": "code",
      "source": [
        "# 한글 폰트 처리 : 런타임 다시 시작 필요\n",
        "!sudo apt-get install -y fonts-nanum\n",
        "!sudo fc-cache -fv\n",
        "!rm ~/.cache/matplotlib -rf"
      ],
      "metadata": {
        "id": "4BzFnVYc1jHA"
      },
      "execution_count": null,
      "outputs": []
    },
    {
      "cell_type": "code",
      "source": [
        "import matplotlib as mpl\n",
        "import matplotlib.pyplot as plt\n",
        "import numpy as np\n",
        "\n",
        "%matplotlib inline    "
      ],
      "metadata": {
        "id": "TDJtWWpfgbdA"
      },
      "execution_count": null,
      "outputs": []
    },
    {
      "cell_type": "code",
      "source": [
        "# matplotlib 한글폰트 지정\n",
        "plt.rc('font', family='NanumBarunGothic')\n",
        "\n",
        "# - 기호 깨짐 오류 방지\n",
        "plt.rc('axes', unicode_minus = False)"
      ],
      "metadata": {
        "id": "PxbiV-g7DETn"
      },
      "execution_count": null,
      "outputs": []
    },
    {
      "cell_type": "code",
      "source": [
        "# x측\n",
        "x = ['1월', '2월', '3월', '4월', '5월']\n",
        "y = [7, 10, 17, 20, 23]\n",
        "\n",
        "# 그래프\n",
        "plt.plot(x,y)\n",
        "plt.show()"
      ],
      "metadata": {
        "id": "8SzoBVauDtWw"
      },
      "execution_count": null,
      "outputs": []
    },
    {
      "cell_type": "code",
      "source": [
        "# x측\n",
        "x = ['1월', '2월', '3월', '4월', '5월']\n",
        "y = [7, 10, 17, 20, 23]\n",
        "\n",
        "# 그래프\n",
        "plt.plot(x,y, color=\"blue\", marker = 'o', linestyle = ':')\n",
        "plt.title('월별 평균 온도', fontsize=15)\n",
        "plt.ylabel('온도(도)')\n",
        "plt.grid(linestyle = ':')\n",
        "plt.show()"
      ],
      "metadata": {
        "id": "jO4OyPhjFo57"
      },
      "execution_count": null,
      "outputs": []
    },
    {
      "cell_type": "code",
      "execution_count": null,
      "metadata": {
        "id": "akWVpA_me3vw"
      },
      "outputs": [],
      "source": [
        "# 40개의 임의의 랜덤값을 생성\n",
        "aVal = np.random.standard_normal(40)\n",
        "aVal "
      ]
    },
    {
      "cell_type": "code",
      "source": [
        "# type 확인\n",
        "# 40개의 랜덤값으로 이루어진 numpy.ndarray형 변수\n",
        "type(aVal)"
      ],
      "metadata": {
        "id": "N0yRECOghQbM"
      },
      "execution_count": null,
      "outputs": []
    },
    {
      "cell_type": "code",
      "source": [
        "index = range(len(aVal))\n",
        "plt.plot(index, aVal)\n",
        "\n",
        "# x축, y축의 범위 설정\n",
        "plt.xlim(0, 20)\n",
        "plt.ylim(np.min(aVal) -1, np.max(aVal) + 1)\n",
        "plt.show()"
      ],
      "metadata": {
        "id": "yQOOLeIThoKM"
      },
      "execution_count": null,
      "outputs": []
    },
    {
      "cell_type": "code",
      "source": [
        "# index는 range 형 변수\n",
        "type(index)"
      ],
      "metadata": {
        "id": "JOgHmQoBiHfm"
      },
      "execution_count": null,
      "outputs": []
    },
    {
      "cell_type": "code",
      "source": [
        "plt.figure(figsize=(7,4))\n",
        "plt.plot(aVal.cumsum(), 'b', lw= 1.5)\n",
        "plt.plot(aVal.cumsum(), 'ro')\n",
        "plt.xlabel('index')\n",
        "plt.ylabel('aVal')\n",
        "plt.title('Line Plot')\n",
        "plt.show()"
      ],
      "metadata": {
        "id": "kRaJUBOxiIv-"
      },
      "execution_count": null,
      "outputs": []
    },
    {
      "cell_type": "code",
      "source": [
        "value = np.random.standard_normal((30, 2))\n",
        "value"
      ],
      "metadata": {
        "id": "U5t8ZHPWiLs1"
      },
      "execution_count": null,
      "outputs": []
    },
    {
      "cell_type": "code",
      "source": [
        "value[0]"
      ],
      "metadata": {
        "id": "MG9n6-u4iO7W"
      },
      "execution_count": null,
      "outputs": []
    },
    {
      "cell_type": "code",
      "source": [
        "plt.figure(figsize=(10,4))\n",
        "plt.plot(value[:,0], lw= 1.5)\n",
        "plt.plot(value[:,1], lw= 1.5)\n",
        "plt.plot(value, 'ro')\n",
        "plt.grid(True)\n",
        "# plt.legend(loc=0)\n",
        "plt.xlabel('index')\n",
        "plt.ylabel('value')\n",
        "plt.title('Line Plot')"
      ],
      "metadata": {
        "id": "Vs7scMQTsyJQ"
      },
      "execution_count": null,
      "outputs": []
    },
    {
      "cell_type": "code",
      "source": [
        "# 1번째\n",
        "plt.figure(figsize=(10,5))\n",
        "plt.subplot(211)\n",
        "plt.plot(value[:,0], lw = 1.5, label = '1st')\n",
        "plt.plot(value[:,0], 'ro')\n",
        "plt.grid(True)\n",
        "plt.legend(loc = 0)\n",
        "plt.ylabel(\"value\")\n",
        "plt.title('Line Plot 3')\n",
        "# 2번째\n",
        "plt.subplot(212)\n",
        "plt.plot(value[:,1], 'g', lw = 1.5, label = '2nd')\n",
        "plt.grid(True)\n",
        "plt.legend(loc=0)\n",
        "plt.axis('tight')\n",
        "plt.ylabel('value')"
      ],
      "metadata": {
        "id": "0qHAl_eSiU79"
      },
      "execution_count": null,
      "outputs": []
    },
    {
      "cell_type": "code",
      "source": [
        "# 1번째\n",
        "plt.figure(figsize=(13,5))\n",
        "plt.subplot(231)\n",
        "plt.plot(value[:,0], lw= 1.5, label = '1st')\n",
        "plt.plot(value[:,0], 'co')\n",
        "plt.grid(True)\n",
        "plt.legend(loc=0)\n",
        "plt.ylabel('value')\n",
        "plt.title('Line Plot 3')\n",
        "# 2번째\n",
        "plt.subplot(232)\n",
        "plt.plot(value[:,0], 'g-.', lw=1.5, label='1st')\n",
        "plt.grid(True)\n",
        "plt.legend(loc=0)\n",
        "plt.axis('tight')\n",
        "plt.ylabel('value')\n",
        "# 3번째\n",
        "plt.subplot(233)\n",
        "plt.plot(value[:,0], 'g', lw=1.5, label='1st')\n",
        "plt.plot(value[:,0], 'bD')\n",
        "plt.grid(True)\n",
        "plt.legend(loc=0)\n",
        "plt.axis('tight')\n",
        "plt.ylabel('value')\n",
        "# 4번째\n",
        "plt.subplot(234)\n",
        "plt.plot(value[:,1], '*', lw=1.5, label='2nd')\n",
        "plt.grid(True)\n",
        "plt.legend(loc=0)\n",
        "plt.axis('tight')\n",
        "plt.ylabel('value')\n",
        "# 5번째\n",
        "plt.subplot(235)\n",
        "plt.plot(value[:,1], 'b', lw=1.5, label='2nd')\n",
        "plt.plot(value[:,1], 'ms')\n",
        "plt.grid(True)\n",
        "plt.legend(loc=0)\n",
        "plt.axis('tight')\n",
        "plt.ylabel('value')\n",
        "# 6번째\n",
        "plt.subplot(236)\n",
        "plt.plot(value[:,1], 'r--', lw=1.5, label='2nd')\n",
        "plt.grid(True)\n",
        "plt.legend(loc=0)\n",
        "plt.axis('tight')\n",
        "plt.ylabel('value')"
      ],
      "metadata": {
        "id": "JHHYGpQ4iVoN"
      },
      "execution_count": null,
      "outputs": []
    },
    {
      "cell_type": "code",
      "source": [
        "# x측\n",
        "x = ['1월', '2월', '3월', '4월', '5월']\n",
        "y = [7, 10, 17, 20, 23]\n",
        "\n",
        "# 그래프\n",
        "plt.bar(x,y)\n",
        "plt.show()"
      ],
      "metadata": {
        "id": "aFSKKgkYJfdM"
      },
      "execution_count": null,
      "outputs": []
    },
    {
      "cell_type": "code",
      "source": [
        "# x측\n",
        "x = ['1월', '2월', '3월', '4월', '5월']\n",
        "y = [7, 10, 17, 20, 23]\n",
        "\n",
        "# 그래프\n",
        "plt.barh(x,y)\n",
        "plt.show()"
      ],
      "metadata": {
        "id": "BuC3es5NJy2t"
      },
      "execution_count": null,
      "outputs": []
    },
    {
      "cell_type": "code",
      "source": [
        "# x측\n",
        "x = ['1월', '2월', '3월', '4월', '5월']\n",
        "y = [7, 10, 17, 20, 23]\n",
        "\n",
        "# 그래프\n",
        "plt.bar(x,y, color=\"orange\", width = 0.5, edgecolor = 'black', hatch = '/')\n",
        "plt.title('월별 평균 온도', fontsize=15)\n",
        "plt.ylabel('온도(도)')\n",
        "plt.grid(linestyle = ':', axis = 'y')\n",
        "plt.show()"
      ],
      "metadata": {
        "id": "gWvM8yXpJ_w0"
      },
      "execution_count": null,
      "outputs": []
    },
    {
      "cell_type": "code",
      "source": [
        "# pandas를 import\n",
        "import pandas as pd\n",
        "\n",
        "# score.csv 파일 일기\n",
        "df = pd.read_csv('scores.csv', encoding='cp949')\n",
        "df"
      ],
      "metadata": {
        "id": "1zId899LKsuP"
      },
      "execution_count": null,
      "outputs": []
    },
    {
      "cell_type": "code",
      "source": [
        "x = df['이름']\n",
        "y_kor = df['국어']\n",
        "\n",
        "plt.bar(x, y_kor)\n",
        "plt.show()"
      ],
      "metadata": {
        "id": "ydU9QzWLLRZ-"
      },
      "execution_count": null,
      "outputs": []
    },
    {
      "cell_type": "code",
      "source": [
        "x = df['이름']\n",
        "y_kor = df['국어']\n",
        "y_eng = df['영어']\n",
        "\n",
        "# 중심을 기준으로 왼쪽/오른쪽에 그래프를 구성\n",
        "plt.bar(x, y_kor, width = -0.4, align = 'edge', label = '국어')\n",
        "plt.bar(x, y_eng, width = 0.4, align = 'edge', label = '영어')\n",
        "plt.title('국어/영어 점수 비교', fontsize = 15)\n",
        "plt.ylabel('점수')\n",
        "\n",
        "# 범례\n",
        "plt.legend() \n",
        "plt.show()"
      ],
      "metadata": {
        "id": "Og-pE9IbLkl6"
      },
      "execution_count": null,
      "outputs": []
    },
    {
      "cell_type": "code",
      "source": [
        "value = np.random.standard_normal((500,2))\n",
        "plt.plot(value[:,0], value[:,1], 'ro')\n",
        "plt.grid(False)\n",
        "plt.xlabel('value 1')\n",
        "plt.ylabel('value 2')\n",
        "plt.title('Scatter Plot 1')"
      ],
      "metadata": {
        "id": "OwZRlJI2iY2F"
      },
      "execution_count": null,
      "outputs": []
    },
    {
      "cell_type": "code",
      "source": [
        "plt.figure(figsize=(7,5))\n",
        "plt.scatter(value[:,0], value[:,1], marker='o')\n",
        "plt.grid(True)\n",
        "plt.xlabel('value 1')\n",
        "plt.ylabel('value 2')\n",
        "plt.title('Scatter Plot 2')"
      ],
      "metadata": {
        "id": "CR4F0aOWibSe"
      },
      "execution_count": null,
      "outputs": []
    },
    {
      "cell_type": "code",
      "source": [
        "color = np.random.randint(0,10,len(value))\n",
        "\n",
        "plt.figure(figsize=(10,5))\n",
        "plt.scatter(value[:,0], value[:,1], c=color, marker = 'o')\n",
        "plt.colorbar()\n",
        "plt.xlabel('value 1')\n",
        "plt.ylabel('value 2')\n",
        "plt.title('Scatter Plot 3')"
      ],
      "metadata": {
        "id": "lzJFLGJOidtN"
      },
      "execution_count": null,
      "outputs": []
    },
    {
      "cell_type": "code",
      "source": [
        "import seaborn as sns\n",
        "df = sns.load_dataset('tips')\n",
        "df"
      ],
      "metadata": {
        "id": "D-qohYKWSX-P"
      },
      "execution_count": null,
      "outputs": []
    },
    {
      "cell_type": "code",
      "source": [
        "df.head()"
      ],
      "metadata": {
        "id": "0OyLoe7oS78Q"
      },
      "execution_count": null,
      "outputs": []
    },
    {
      "cell_type": "code",
      "source": [
        "df.describe()"
      ],
      "metadata": {
        "id": "Fx9kllnkTXbY"
      },
      "execution_count": null,
      "outputs": []
    },
    {
      "cell_type": "code",
      "source": [
        "df.info()"
      ],
      "metadata": {
        "id": "F4ahugmlToZr"
      },
      "execution_count": null,
      "outputs": []
    },
    {
      "cell_type": "code",
      "source": [
        "x = df['total_bill']\n",
        "y = df['tip']\n",
        "\n",
        "sns.scatterplot(x,y)\n"
      ],
      "metadata": {
        "id": "0FP6i2_WTxHL"
      },
      "execution_count": null,
      "outputs": []
    },
    {
      "cell_type": "code",
      "source": [
        "sns.boxplot(x=\"day\", y = \"tip\", hue=\"sex\", data=df, palette=\"muted\")"
      ],
      "metadata": {
        "id": "EHr9teLli0jF"
      },
      "execution_count": null,
      "outputs": []
    }
  ]
}