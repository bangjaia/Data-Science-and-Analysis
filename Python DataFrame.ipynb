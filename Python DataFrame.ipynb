{
  "nbformat": 4,
  "nbformat_minor": 0,
  "metadata": {
    "colab": {
      "provenance": [],
      "collapsed_sections": [],
      "include_colab_link": true
    },
    "kernelspec": {
      "name": "python3",
      "display_name": "Python 3"
    },
    "language_info": {
      "name": "python"
    }
  },
  "cells": [
    {
      "cell_type": "markdown",
      "metadata": {
        "id": "view-in-github",
        "colab_type": "text"
      },
      "source": [
        "<a href=\"https://colab.research.google.com/github/bangjaia/Data-Science-and-Analysis/blob/main/Python%20DataFrame.ipynb\" target=\"_parent\"><img src=\"https://colab.research.google.com/assets/colab-badge.svg\" alt=\"Open In Colab\"/></a>"
      ]
    },
    {
      "cell_type": "code",
      "execution_count": null,
      "metadata": {
        "id": "cOIYtqu62oUF"
      },
      "outputs": [],
      "source": [
        "import pandas as pd\n",
        "\n",
        "sr = pd.Series([100, 200, 300, 400])\n",
        "sr.index = ['A', 'B', 'O', 'AB']\n",
        "sr"
      ]
    },
    {
      "cell_type": "code",
      "source": [
        "sr1 = pd.Series([10, 20, 30])\n",
        "sr1"
      ],
      "metadata": {
        "id": "ovX4gRIC3E2t"
      },
      "execution_count": null,
      "outputs": []
    },
    {
      "cell_type": "code",
      "source": [
        "df = pd.DataFrame({'키':[170, 180, 175], '몸무게':[65, 78, 70]})\n",
        "df.index = ['스파이더맨', '닥터스트레인지', '아이언맨']\n",
        "df"
      ],
      "metadata": {
        "id": "RBnyRXaT3S80"
      },
      "execution_count": null,
      "outputs": []
    },
    {
      "cell_type": "code",
      "source": [
        "df = pd.read_csv('scores.csv', encoding='cp949')\n",
        "df"
      ],
      "metadata": {
        "id": "wLJdVlpx4TLT"
      },
      "execution_count": null,
      "outputs": []
    },
    {
      "cell_type": "code",
      "source": [
        "df.head()"
      ],
      "metadata": {
        "id": "ntWS_HBK_224"
      },
      "execution_count": null,
      "outputs": []
    },
    {
      "cell_type": "code",
      "source": [
        "df.tail()"
      ],
      "metadata": {
        "id": "DbKNQYOuCJOG"
      },
      "execution_count": null,
      "outputs": []
    },
    {
      "cell_type": "code",
      "source": [
        "df.sample(3)"
      ],
      "metadata": {
        "id": "EVpYHVMeCKd-"
      },
      "execution_count": null,
      "outputs": []
    },
    {
      "cell_type": "code",
      "source": [
        "df.info()"
      ],
      "metadata": {
        "id": "CkXPS6EVCOeG"
      },
      "execution_count": null,
      "outputs": []
    },
    {
      "cell_type": "code",
      "source": [
        "df.shape"
      ],
      "metadata": {
        "id": "EjnSN1KnCXf2"
      },
      "execution_count": null,
      "outputs": []
    },
    {
      "cell_type": "code",
      "source": [
        "len(df)"
      ],
      "metadata": {
        "id": "f8UqrHjjCium"
      },
      "execution_count": null,
      "outputs": []
    },
    {
      "cell_type": "code",
      "source": [
        "df.isnull().sum()"
      ],
      "metadata": {
        "id": "RVwD9RwhCmqW"
      },
      "execution_count": null,
      "outputs": []
    },
    {
      "cell_type": "code",
      "source": [
        "df_dropna = df.dropna()\n",
        "df_dropna"
      ],
      "metadata": {
        "id": "aF2yxVhlDMLV"
      },
      "execution_count": null,
      "outputs": []
    },
    {
      "cell_type": "code",
      "source": [
        "df_fillna = df.fillna(50)\n",
        "df_fillna"
      ],
      "metadata": {
        "id": "hsip12KpDV0O"
      },
      "execution_count": null,
      "outputs": []
    },
    {
      "cell_type": "code",
      "source": [
        "df.describe()"
      ],
      "metadata": {
        "id": "F4CL3cTvDeA9"
      },
      "execution_count": null,
      "outputs": []
    },
    {
      "cell_type": "code",
      "source": [
        "df['국어'].sum()"
      ],
      "metadata": {
        "id": "5zMtD_RjEHR9"
      },
      "execution_count": null,
      "outputs": []
    },
    {
      "cell_type": "code",
      "source": [
        "df.value_counts('영어')"
      ],
      "metadata": {
        "id": "NaS1tprpEI5d"
      },
      "execution_count": null,
      "outputs": []
    },
    {
      "cell_type": "code",
      "source": [
        "df['국어']"
      ],
      "metadata": {
        "id": "0BVASmP4ERd2"
      },
      "execution_count": null,
      "outputs": []
    },
    {
      "cell_type": "code",
      "source": [
        "df[['국어', '영어']]"
      ],
      "metadata": {
        "id": "zNUQ9UFGF6qP"
      },
      "execution_count": null,
      "outputs": []
    },
    {
      "cell_type": "code",
      "source": [
        "df.loc[1]"
      ],
      "metadata": {
        "id": "E4AycnN2GA6U"
      },
      "execution_count": null,
      "outputs": []
    },
    {
      "cell_type": "code",
      "source": [
        "df.loc[[1,2,3]]"
      ],
      "metadata": {
        "id": "P_Hb1qNQGGll"
      },
      "execution_count": null,
      "outputs": []
    },
    {
      "cell_type": "code",
      "source": [
        "df.iloc[2]"
      ],
      "metadata": {
        "id": "1oj6LK1zGJgU"
      },
      "execution_count": null,
      "outputs": []
    },
    {
      "cell_type": "code",
      "source": [
        "df.iloc[2:5]"
      ],
      "metadata": {
        "id": "Pz439bf6S6QW"
      },
      "execution_count": null,
      "outputs": []
    },
    {
      "cell_type": "code",
      "source": [
        "# 시퀀스가 아니라 인덱스로 추출\n",
        "df.loc[2:5]"
      ],
      "metadata": {
        "id": "ltEEzc5GS_J-"
      },
      "execution_count": null,
      "outputs": []
    },
    {
      "cell_type": "code",
      "source": [
        "df"
      ],
      "metadata": {
        "id": "-8M-guBvT5g2"
      },
      "execution_count": null,
      "outputs": []
    },
    {
      "cell_type": "code",
      "source": [
        "df.iloc[1,3]"
      ],
      "metadata": {
        "id": "5R_fLCcCTYX2"
      },
      "execution_count": null,
      "outputs": []
    },
    {
      "cell_type": "code",
      "source": [
        "df.iloc[1:3, 1:3]"
      ],
      "metadata": {
        "id": "sWRwafmhT1XW"
      },
      "execution_count": null,
      "outputs": []
    }
  ]
}