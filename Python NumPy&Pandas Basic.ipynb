{
  "nbformat": 4,
  "nbformat_minor": 0,
  "metadata": {
    "colab": {
      "provenance": [],
      "collapsed_sections": [],
      "include_colab_link": true
    },
    "kernelspec": {
      "name": "python3",
      "display_name": "Python 3"
    },
    "language_info": {
      "name": "python"
    }
  },
  "cells": [
    {
      "cell_type": "markdown",
      "metadata": {
        "id": "view-in-github",
        "colab_type": "text"
      },
      "source": [
        "<a href=\"https://colab.research.google.com/github/bangjaia/Data-Science-and-Analysis/blob/main/Python%20NumPy%26Pandas%20Basic.ipynb\" target=\"_parent\"><img src=\"https://colab.research.google.com/assets/colab-badge.svg\" alt=\"Open In Colab\"/></a>"
      ]
    },
    {
      "cell_type": "code",
      "execution_count": null,
      "metadata": {
        "id": "koUib_1Q_GhO"
      },
      "outputs": [],
      "source": [
        "# 함수 f(x)를 생성하고 x 값을 입력으로 받음\n",
        "def f(x):\n",
        "  # x에 10을 더한 값을 출력\n",
        "  return x + 10"
      ]
    },
    {
      "cell_type": "code",
      "source": [
        "f(3)"
      ],
      "metadata": {
        "id": "ONZoV1x5KtXi"
      },
      "execution_count": null,
      "outputs": []
    },
    {
      "cell_type": "code",
      "source": [
        "# 내장함수 예 : input\n",
        "strText = input(\"아무 문장이나 입력하세요 : \")\n",
        "print(strText)"
      ],
      "metadata": {
        "id": "1qyUlnWJKxvb"
      },
      "execution_count": null,
      "outputs": []
    },
    {
      "cell_type": "code",
      "source": [
        "# List를 이용한 다차원 배열\n",
        "flVal = [1.0, 2.0, 3.14, 4.2, 5.1]  # 실수 list를 생성"
      ],
      "metadata": {
        "id": "OW9IgpnYUFO0"
      },
      "execution_count": null,
      "outputs": []
    },
    {
      "cell_type": "code",
      "source": [
        "# flVal 3개를 리스트로 구성하여 arVal 다차원 배열을 생성\n",
        "arVal = [flVal, flVal, flVal]\n",
        "arVal"
      ],
      "metadata": {
        "id": "faYCe39sUZU6"
      },
      "execution_count": null,
      "outputs": []
    },
    {
      "cell_type": "code",
      "source": [
        "# arVal은 다차원 배열이므로, arVal[n] 인덱스 연산을 통해 n차원 배열 값을 출력\n",
        "arVal[0]"
      ],
      "metadata": {
        "id": "2-LNSx4jU6S8"
      },
      "execution_count": null,
      "outputs": []
    },
    {
      "cell_type": "code",
      "source": [
        "arVal[1]"
      ],
      "metadata": {
        "id": "rjyhGgTkVT4E"
      },
      "execution_count": null,
      "outputs": []
    },
    {
      "cell_type": "code",
      "source": [
        "arVal[1][2]"
      ],
      "metadata": {
        "id": "KSKS6utZVhV5"
      },
      "execution_count": null,
      "outputs": []
    },
    {
      "cell_type": "code",
      "source": [
        "# 1 차원 값을 변환하여 다른 값을 대입 했을때의 다차원 배열\n",
        "arVal[0] = 'python'\n",
        "arVal"
      ],
      "metadata": {
        "id": "G4L3cIqdVmId"
      },
      "execution_count": null,
      "outputs": []
    },
    {
      "cell_type": "code",
      "source": [
        "arVal[0][2]"
      ],
      "metadata": {
        "id": "ayfMHycaVwdY"
      },
      "execution_count": null,
      "outputs": []
    },
    {
      "cell_type": "code",
      "source": [
        "arVal[0] = 'python programming'\n",
        "arVal"
      ],
      "metadata": {
        "id": "NQlbqN3IV33L"
      },
      "execution_count": null,
      "outputs": []
    },
    {
      "cell_type": "code",
      "source": [
        "# numpy 패치지를 import \n",
        "import numpy as np\n",
        "arData = np.array([1.0, 2.0, 3.14, 4.2, 5.1])\n",
        "arData"
      ],
      "metadata": {
        "id": "4OH9ljqjS0ky"
      },
      "execution_count": null,
      "outputs": []
    },
    {
      "cell_type": "code",
      "source": [
        "# 배열 각 요소의 합을 출력\n",
        "arData.sum()"
      ],
      "metadata": {
        "id": "zC3WmlXyUCJa"
      },
      "execution_count": null,
      "outputs": []
    },
    {
      "cell_type": "code",
      "source": [
        "arVal.sum()"
      ],
      "metadata": {
        "id": "bYm6t0fHRedX"
      },
      "execution_count": null,
      "outputs": []
    },
    {
      "cell_type": "code",
      "source": [
        "print(type(arVal))\n",
        "print(type(arData))"
      ],
      "metadata": {
        "id": "E5Kc1JZqRrmz"
      },
      "execution_count": null,
      "outputs": []
    },
    {
      "cell_type": "code",
      "source": [
        "# 배열에 대한 표준편차 출력\n",
        "arData.std()"
      ],
      "metadata": {
        "id": "DX_JRoiiYLjq"
      },
      "execution_count": null,
      "outputs": []
    },
    {
      "cell_type": "code",
      "source": [
        "# 배열의 누적 합을 출력\n",
        "arData.cumsum()"
      ],
      "metadata": {
        "id": "-vAg4I7fYQr6"
      },
      "execution_count": null,
      "outputs": []
    },
    {
      "cell_type": "code",
      "source": [
        "arData * 2"
      ],
      "metadata": {
        "id": "8A9HHZ7cYVoC"
      },
      "execution_count": null,
      "outputs": []
    },
    {
      "cell_type": "code",
      "source": [
        "arData ** 2 # 2를 제곱"
      ],
      "metadata": {
        "id": "NylU0ynnZFyB"
      },
      "execution_count": null,
      "outputs": []
    },
    {
      "cell_type": "code",
      "source": [
        "# 루트를 적용한 값을 출력\n",
        "np.sqrt(arData)"
      ],
      "metadata": {
        "id": "cUJyw5rsZJRy"
      },
      "execution_count": null,
      "outputs": []
    },
    {
      "cell_type": "code",
      "source": [
        "arVal = np.array([arData, arData ** 2])\n",
        "arVal"
      ],
      "metadata": {
        "id": "1pXiLUt0ZRxJ"
      },
      "execution_count": null,
      "outputs": []
    },
    {
      "cell_type": "code",
      "source": [
        "arVal.sum(axis=0) # 축(axis)이 0일 경우 세로 축의 합을 출력"
      ],
      "metadata": {
        "id": "PEgn2g2xZy9s"
      },
      "execution_count": null,
      "outputs": []
    },
    {
      "cell_type": "code",
      "source": [
        "arVal.sum(axis=1) # 축(axis)이 0일 경우 가로 축의 합을 출력"
      ],
      "metadata": {
        "id": "YNufhKzoaOZo"
      },
      "execution_count": null,
      "outputs": []
    },
    {
      "cell_type": "code",
      "source": [
        "# NumPy.array를 사용한 코드\n",
        "np.array([[0,0,0],[0,0,0]])"
      ],
      "metadata": {
        "id": "3xvw-D_uaV7S"
      },
      "execution_count": null,
      "outputs": []
    },
    {
      "cell_type": "code",
      "source": [
        "# NumPy.zeros를 사용한 코드\n",
        "arZero = np.zeros((2,3), dtype = 'i') \n",
        "arZero"
      ],
      "metadata": {
        "id": "U850O2BgbGp5"
      },
      "execution_count": null,
      "outputs": []
    },
    {
      "cell_type": "code",
      "source": [
        "# pandas import\n",
        "import pandas as pd\n",
        "\n",
        "pandas_series = pd.Series([30, 20, 10], index=['국어', '영어', '수학'])\n",
        "print(type(pandas_series))\n",
        "pandas_series"
      ],
      "metadata": {
        "id": "42BLIZZfbV2B"
      },
      "execution_count": null,
      "outputs": []
    },
    {
      "cell_type": "code",
      "source": [
        "pandas_series[1:]"
      ],
      "metadata": {
        "id": "wsZs0R2hdZIY"
      },
      "execution_count": null,
      "outputs": []
    },
    {
      "cell_type": "code",
      "source": [
        "pandas_series[0]"
      ],
      "metadata": {
        "id": "yj6kD4-kVZVd"
      },
      "execution_count": null,
      "outputs": []
    },
    {
      "cell_type": "code",
      "source": [
        "pandas_series[0][1]"
      ],
      "metadata": {
        "id": "Pk8EGQpMVf8e"
      },
      "execution_count": null,
      "outputs": []
    },
    {
      "cell_type": "code",
      "source": [
        "df = pd.DataFrame([30,20,10], columns=['score'], index=['국어', '영어', '수학'])\n",
        "df"
      ],
      "metadata": {
        "id": "UCA8N45jds44"
      },
      "execution_count": null,
      "outputs": []
    },
    {
      "cell_type": "code",
      "source": [
        "# DataFrame의 index를 표시\n",
        "df.index"
      ],
      "metadata": {
        "id": "PCss1JKue-wB"
      },
      "execution_count": null,
      "outputs": []
    },
    {
      "cell_type": "code",
      "source": [
        "# DataFrame의 column을 표시\n",
        "df.columns"
      ],
      "metadata": {
        "id": "FrY_mgwSfIgA"
      },
      "execution_count": null,
      "outputs": []
    },
    {
      "cell_type": "code",
      "source": [
        "# DataFrame의index 중에서 국어에 해당하는 값을 출력\n",
        "df.loc['국어']   # ix 함수가 최근 제거되어 loc를 써야 동작"
      ],
      "metadata": {
        "id": "_DYOVPGkfO8g"
      },
      "execution_count": null,
      "outputs": []
    },
    {
      "cell_type": "code",
      "source": [
        "# DataFrame의 값을 모두 합한 결과를 출력\n",
        "df.sum()"
      ],
      "metadata": {
        "id": "c0n-VJfxfdSq"
      },
      "execution_count": null,
      "outputs": []
    },
    {
      "cell_type": "code",
      "source": [
        "# DataFrame의 각 colimn 값의 제곱을 출력\n",
        "df.score ** 2"
      ],
      "metadata": {
        "id": "fg3VzU12hZqg"
      },
      "execution_count": null,
      "outputs": []
    },
    {
      "cell_type": "code",
      "source": [
        "# DataFrame에 score2 라는 칼럼을 추가하고 값을 입력\n",
        "df['score2'] = (50, 50, 50)\n",
        "df"
      ],
      "metadata": {
        "id": "TG9g-tw6hipo"
      },
      "execution_count": null,
      "outputs": []
    },
    {
      "cell_type": "code",
      "source": [
        "# DataFrame 함수를 이용하여 column을 추가할 수 있음\n",
        "df['score2'] = pd.DataFrame([90,90,90], index=['국어', '영어', '수학'])\n",
        "df"
      ],
      "metadata": {
        "id": "bG12kCPQh3Ql"
      },
      "execution_count": null,
      "outputs": []
    },
    {
      "cell_type": "code",
      "source": [
        "# column 삭제\n",
        "del df['score']"
      ],
      "metadata": {
        "id": "oqRPEsndiuYE"
      },
      "execution_count": null,
      "outputs": []
    },
    {
      "cell_type": "code",
      "source": [
        "# index 를 맞추기 않았을 경우\n",
        "df['score2'] = (90, 90, 90, 100)"
      ],
      "metadata": {
        "id": "tCO4cT1SjBRS"
      },
      "execution_count": null,
      "outputs": []
    },
    {
      "cell_type": "code",
      "source": [
        "# index 를 맞추기 않았을 경우\n",
        "df['score2'] = pd.DataFrame([90, 90, 90, 100], index=['국어', '영어', '수학', '윤리'])\n",
        "df"
      ],
      "metadata": {
        "id": "0PsSS9-OimGr"
      },
      "execution_count": null,
      "outputs": []
    },
    {
      "cell_type": "code",
      "source": [
        "# join() 함수를 이용하여 2개의 DataFrame을 하나로 합칠 수 있음\n",
        "df1 = pd.DataFrame([1, 2, 3], columns = ['A'])\n",
        "df2 = pd.DataFrame([10, 11, 12, 13], columns = ['B'])\n",
        "\n",
        "df = df1.join(df2, how='outer')\n",
        "df"
      ],
      "metadata": {
        "id": "2O9szLgTi417"
      },
      "execution_count": null,
      "outputs": []
    },
    {
      "cell_type": "code",
      "source": [
        "df_inner = df1.join(df2, how='inner')\n",
        "df_inner"
      ],
      "metadata": {
        "id": "6LfHS9u-XDQs"
      },
      "execution_count": null,
      "outputs": []
    },
    {
      "cell_type": "code",
      "source": [
        "# 난수를 이용한 임의의 값 생성\n",
        "df = pd.DataFrame(np.random.randn(5,5))\n",
        "df.columns = ['A', 'B', 'C', 'D', 'E']\n",
        "\n",
        "df"
      ],
      "metadata": {
        "id": "ycZ8PXw9ksln"
      },
      "execution_count": null,
      "outputs": []
    },
    {
      "cell_type": "code",
      "source": [
        "# 최대값\n",
        "df.max()"
      ],
      "metadata": {
        "id": "W87Owq6XlIPP"
      },
      "execution_count": null,
      "outputs": []
    },
    {
      "cell_type": "code",
      "source": [
        "# 최소값\n",
        "df.min()"
      ],
      "metadata": {
        "id": "Xp-CWhYclQUn"
      },
      "execution_count": null,
      "outputs": []
    },
    {
      "cell_type": "code",
      "source": [
        "# 평균\n",
        "df.mean()"
      ],
      "metadata": {
        "id": "iZo4p2enlTvv"
      },
      "execution_count": null,
      "outputs": []
    },
    {
      "cell_type": "code",
      "source": [
        "# 표준편차\n",
        "df.std()"
      ],
      "metadata": {
        "id": "A-0UQBqslWVH"
      },
      "execution_count": null,
      "outputs": []
    },
    {
      "cell_type": "code",
      "source": [
        "# 누적값\n",
        "df.cumsum()"
      ],
      "metadata": {
        "id": "1swvGQNklZ_3"
      },
      "execution_count": null,
      "outputs": []
    },
    {
      "cell_type": "code",
      "source": [
        "# DataFrame의 통계적 요약\n",
        "df.describe()"
      ],
      "metadata": {
        "id": "MtetiLgHldmH"
      },
      "execution_count": null,
      "outputs": []
    },
    {
      "cell_type": "code",
      "source": [
        "# Group by를 이용한 DataFrame의 그룹화\n",
        "df['division'] = ['X', 'Y', 'X', 'Y', 'Z']\n",
        "df"
      ],
      "metadata": {
        "id": "jDAWdaPilkb_"
      },
      "execution_count": null,
      "outputs": []
    },
    {
      "cell_type": "code",
      "source": [
        "df.groupby(['division']).mean()"
      ],
      "metadata": {
        "id": "z-n47N8bl0Ut"
      },
      "execution_count": null,
      "outputs": []
    }
  ]
}